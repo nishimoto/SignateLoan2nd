{
 "cells": [
  {
   "cell_type": "markdown",
   "id": "4c147e57",
   "metadata": {
    "papermill": {
     "duration": 0.007395,
     "end_time": "2024-02-10T05:34:09.196191",
     "exception": false,
     "start_time": "2024-02-10T05:34:09.188796",
     "status": "completed"
    },
    "tags": []
   },
   "source": [
    "## readme\n",
    "\n",
    "exp27: exp15ベース（）\n"
   ]
  },
  {
   "cell_type": "code",
   "execution_count": 1,
   "id": "1a86e1b0",
   "metadata": {
    "execution": {
     "iopub.execute_input": "2024-02-10T05:34:09.213354Z",
     "iopub.status.busy": "2024-02-10T05:34:09.212645Z",
     "iopub.status.idle": "2024-02-10T05:34:12.177466Z",
     "shell.execute_reply": "2024-02-10T05:34:12.176369Z"
    },
    "papermill": {
     "duration": 2.976789,
     "end_time": "2024-02-10T05:34:12.180511",
     "exception": false,
     "start_time": "2024-02-10T05:34:09.203722",
     "status": "completed"
    },
    "tags": []
   },
   "outputs": [],
   "source": [
    "import warnings\n",
    "import itertools\n",
    "import numpy as np\n",
    "import pandas as pd\n",
    "import seaborn as sns\n",
    "import scipy.stats as st\n",
    "import matplotlib.pylab as plt\n",
    "from sklearn import preprocessing\n",
    "from catboost import CatBoostClassifier\n",
    "from sklearn.metrics import f1_score, roc_auc_score\n",
    "from sklearn.model_selection import StratifiedKFold\n",
    "warnings.filterwarnings(\"ignore\")"
   ]
  },
  {
   "cell_type": "code",
   "execution_count": 2,
   "id": "25e7f679",
   "metadata": {
    "execution": {
     "iopub.execute_input": "2024-02-10T05:34:12.197013Z",
     "iopub.status.busy": "2024-02-10T05:34:12.195880Z",
     "iopub.status.idle": "2024-02-10T05:34:12.202846Z",
     "shell.execute_reply": "2024-02-10T05:34:12.201841Z"
    },
    "papermill": {
     "duration": 0.017753,
     "end_time": "2024-02-10T05:34:12.205283",
     "exception": false,
     "start_time": "2024-02-10T05:34:12.187530",
     "status": "completed"
    },
    "tags": []
   },
   "outputs": [],
   "source": [
    "exp = \"exp27\"\n",
    "target = \"MIS_Status\"\n",
    "cols_category = [\n",
    "    \"RevLineCr\", \"LowDoc\", \"Sector\",\n",
    "    \"State\", \"BankState\", \"FranchiseCode\",\n",
    "    \"City\", \"DisbursementDate\", \"ApprovalDate\",\n",
    "    \"DisbursementGross\", \"GrAppv\", \"SBA_Appv\",\n",
    "]\n",
    "\n",
    "params_cat = {\n",
    "    \"iterations\": 3000,\n",
    "    \"learning_rate\": 0.01,\n",
    "    \"subsample\": 0.7207134190578636,\n",
    "    \"colsample_bylevel\": 0.7201211165655252,\n",
    "    \"max_depth\": 9,\n",
    "    \"random_seed\": 0,\n",
    "}"
   ]
  },
  {
   "cell_type": "code",
   "execution_count": 3,
   "id": "2b451b46",
   "metadata": {
    "execution": {
     "iopub.execute_input": "2024-02-10T05:34:12.220964Z",
     "iopub.status.busy": "2024-02-10T05:34:12.220527Z",
     "iopub.status.idle": "2024-02-10T05:34:12.720245Z",
     "shell.execute_reply": "2024-02-10T05:34:12.719027Z"
    },
    "papermill": {
     "duration": 0.510878,
     "end_time": "2024-02-10T05:34:12.723100",
     "exception": false,
     "start_time": "2024-02-10T05:34:12.212222",
     "status": "completed"
    },
    "tags": []
   },
   "outputs": [],
   "source": [
    "df_train = pd.read_csv(\"../input/sig-sba/train.csv\", index_col=0)\n",
    "df_test = pd.read_csv(\"../input/sig-sba/test.csv\", index_col=0)\n",
    "ss = pd.read_csv(\"../input/sig-sba/sample_submission.csv\", header=None)"
   ]
  },
  {
   "cell_type": "markdown",
   "id": "4c5bb9da",
   "metadata": {
    "papermill": {
     "duration": 0.006875,
     "end_time": "2024-02-10T05:34:12.737437",
     "exception": false,
     "start_time": "2024-02-10T05:34:12.730562",
     "status": "completed"
    },
    "tags": []
   },
   "source": [
    "## 前処理"
   ]
  },
  {
   "cell_type": "code",
   "execution_count": 4,
   "id": "2be73616",
   "metadata": {
    "execution": {
     "iopub.execute_input": "2024-02-10T05:34:12.753722Z",
     "iopub.status.busy": "2024-02-10T05:34:12.753289Z",
     "iopub.status.idle": "2024-02-10T05:34:12.775637Z",
     "shell.execute_reply": "2024-02-10T05:34:12.774406Z"
    },
    "papermill": {
     "duration": 0.033974,
     "end_time": "2024-02-10T05:34:12.778439",
     "exception": false,
     "start_time": "2024-02-10T05:34:12.744465",
     "status": "completed"
    },
    "tags": []
   },
   "outputs": [],
   "source": [
    "def preprocess(df, replace_dict=None, ce_dict=None):    \n",
    "    # 本来数値型のものを変換する\n",
    "    cols = [\"DisbursementGross\", \"GrAppv\", \"SBA_Appv\"]\n",
    "    df[cols] = df[cols].applymap(lambda x: x.strip().replace('$', '').replace(',', '')).astype(float).astype(int)\n",
    "    \n",
    "    # 上2桁が意味あるらしいので\n",
    "    df['FranchiseCode'] = [int(str(code)[:2]) if code > 100 else code for code in df['FranchiseCode']]\n",
    "\n",
    "    # 特徴量エンジニアリング\n",
    "    df[\"State_is_BankState\"] = (df[\"State\"] == df[\"BankState\"])\n",
    "    df[\"State_is_BankState\"] = df[\"State_is_BankState\"].replace({True: 1, False: 0})\n",
    "    df['SBA_Gr_Ratio'] = df['SBA_Appv'] / df['GrAppv']\n",
    "    df[\"DisbursementGross_Gr_Ratio\"] = df[\"DisbursementGross\"] / df[\"GrAppv\"]\n",
    "    df[\"DisbursementGross_SBA_Ratio\"] = df[\"DisbursementGross\"] / df[\"SBA_Appv\"]\n",
    "    \n",
    "    # コード\n",
    "    # 31-33, 44-45, 48-49 は同じらしい\n",
    "    code_dict = {\n",
    "        32: 31,\n",
    "        33: 31,\n",
    "        45: 44,\n",
    "        49: 48\n",
    "    }\n",
    "    df[\"Sector\"] = df[\"Sector\"].replace(code_dict)\n",
    "\n",
    "    # 日付関係\n",
    "    df['DisbursementDate'] = pd.to_datetime(df['DisbursementDate'], format='%d-%b-%y')\n",
    "    df[\"DisbursementYear\"] = df[\"DisbursementDate\"].dt.year\n",
    "    df[\"ApprovalDate\"] = pd.to_datetime(df['ApprovalDate'], format='%d-%b-%y')\n",
    "    df[\"ApprovalDateYear_is_ApprovalFY\"] = (df[\"ApprovalDate\"].dt.year == df[\"ApprovalFY\"]).astype(int)\n",
    "    df[\"FY_Diff\"] = df[\"ApprovalFY\"] - df[\"DisbursementYear\"]\n",
    "    \n",
    "    # v11: cols = [\"DisbursementGross\", \"GrAppv\", \"SBA_Appv\"]をカテゴリカル変数として追加（処理的にはcols_categoryに足した上でintに追加）\n",
    "    cols = [\"DisbursementGross\", \"GrAppv\", \"SBA_Appv\"]\n",
    "    for col in cols:\n",
    "        df[f\"{col}_int\"] = df[col].copy()\n",
    "    \n",
    "    # カテゴリカル変数の設定\n",
    "    df[cols_category] = df[cols_category].fillna(-1)\n",
    "    \n",
    "    # train\n",
    "    if replace_dict is None:\n",
    "        # カウントエンコード＋数字にエンコード\n",
    "        ce_dict = {}\n",
    "        replace_dict = {}\n",
    "        for col in cols_category:\n",
    "            replace_dict[col] = {}\n",
    "            vc = df[col].value_counts()\n",
    "            ce_dict[col] = vc\n",
    "            replace_dict_in_dict = {}\n",
    "            for i, k in enumerate(vc.keys()):\n",
    "                replace_dict_in_dict[k] = i\n",
    "            replace_dict[col] = replace_dict_in_dict\n",
    "            df[f\"{col}_CountEncode\"] = df[col].replace(vc).astype(int)\n",
    "            df[col] = df[col].replace(replace_dict_in_dict).astype(int)\n",
    "        return df, replace_dict, ce_dict\n",
    "\n",
    "    # test\n",
    "    else:\n",
    "        for col in cols_category:\n",
    "            # カウントエンコード\n",
    "            test_vals_uniq = df[col].unique()\n",
    "            ce_dict_in_dict = ce_dict[col]\n",
    "            for test_val in test_vals_uniq:\n",
    "                if test_val not in ce_dict_in_dict.keys():\n",
    "                    ce_dict_in_dict[test_val] = -1\n",
    "            df[f\"{col}_CountEncode\"] = df[col].replace(ce_dict_in_dict).astype(int)\n",
    "            \n",
    "            # 数字にエンコード\n",
    "            test_vals_uniq = df[col].unique()\n",
    "            replace_dict_in_dict = replace_dict[col]\n",
    "            for test_val in test_vals_uniq:\n",
    "                if test_val not in replace_dict_in_dict.keys():\n",
    "                    replace_dict_in_dict[test_val] = -1\n",
    "            df[col] = df[col].replace(replace_dict_in_dict).astype(int)\n",
    "        return df"
   ]
  },
  {
   "cell_type": "code",
   "execution_count": 5,
   "id": "1f694057",
   "metadata": {
    "execution": {
     "iopub.execute_input": "2024-02-10T05:34:12.794422Z",
     "iopub.status.busy": "2024-02-10T05:34:12.793944Z",
     "iopub.status.idle": "2024-02-10T05:44:24.803894Z",
     "shell.execute_reply": "2024-02-10T05:44:24.802546Z"
    },
    "papermill": {
     "duration": 612.021421,
     "end_time": "2024-02-10T05:44:24.806955",
     "exception": false,
     "start_time": "2024-02-10T05:34:12.785534",
     "status": "completed"
    },
    "tags": []
   },
   "outputs": [],
   "source": [
    "df_train, replace_dict, ce_dict = preprocess(df_train)\n",
    "df_test = preprocess(df_test, replace_dict=replace_dict, ce_dict=ce_dict)"
   ]
  },
  {
   "cell_type": "code",
   "execution_count": 6,
   "id": "d94c5d24",
   "metadata": {
    "execution": {
     "iopub.execute_input": "2024-02-10T05:44:24.823233Z",
     "iopub.status.busy": "2024-02-10T05:44:24.822808Z",
     "iopub.status.idle": "2024-02-10T05:44:26.350842Z",
     "shell.execute_reply": "2024-02-10T05:44:26.349579Z"
    },
    "papermill": {
     "duration": 1.539076,
     "end_time": "2024-02-10T05:44:26.353442",
     "exception": false,
     "start_time": "2024-02-10T05:44:24.814366",
     "status": "completed"
    },
    "tags": []
   },
   "outputs": [
    {
     "data": {
      "text/html": [
       "<div>\n",
       "<style scoped>\n",
       "    .dataframe tbody tr th:only-of-type {\n",
       "        vertical-align: middle;\n",
       "    }\n",
       "\n",
       "    .dataframe tbody tr th {\n",
       "        vertical-align: top;\n",
       "    }\n",
       "\n",
       "    .dataframe thead th {\n",
       "        text-align: right;\n",
       "    }\n",
       "</style>\n",
       "<table border=\"1\" class=\"dataframe\">\n",
       "  <thead>\n",
       "    <tr style=\"text-align: right;\">\n",
       "      <th></th>\n",
       "      <th>MIS_Status</th>\n",
       "      <th>MIS_Status</th>\n",
       "    </tr>\n",
       "  </thead>\n",
       "  <tbody>\n",
       "    <tr>\n",
       "      <th>RevLineCr_CountEncode</th>\n",
       "      <td>0.142624</td>\n",
       "      <td>0.134530</td>\n",
       "    </tr>\n",
       "    <tr>\n",
       "      <th>NoEmp</th>\n",
       "      <td>0.092940</td>\n",
       "      <td>0.171855</td>\n",
       "    </tr>\n",
       "    <tr>\n",
       "      <th>Term</th>\n",
       "      <td>0.122125</td>\n",
       "      <td>0.119292</td>\n",
       "    </tr>\n",
       "    <tr>\n",
       "      <th>LowDoc_CountEncode</th>\n",
       "      <td>0.112232</td>\n",
       "      <td>0.116404</td>\n",
       "    </tr>\n",
       "    <tr>\n",
       "      <th>Sector_CountEncode</th>\n",
       "      <td>0.104510</td>\n",
       "      <td>0.105012</td>\n",
       "    </tr>\n",
       "    <tr>\n",
       "      <th>City</th>\n",
       "      <td>0.073867</td>\n",
       "      <td>0.042356</td>\n",
       "    </tr>\n",
       "    <tr>\n",
       "      <th>DisbursementGross</th>\n",
       "      <td>0.072582</td>\n",
       "      <td>0.020391</td>\n",
       "    </tr>\n",
       "    <tr>\n",
       "      <th>GrAppv_CountEncode</th>\n",
       "      <td>0.056272</td>\n",
       "      <td>0.035001</td>\n",
       "    </tr>\n",
       "    <tr>\n",
       "      <th>DisbursementGross_SBA_Ratio</th>\n",
       "      <td>0.051381</td>\n",
       "      <td>0.034710</td>\n",
       "    </tr>\n",
       "    <tr>\n",
       "      <th>SBA_Appv_CountEncode</th>\n",
       "      <td>0.052683</td>\n",
       "      <td>0.033403</td>\n",
       "    </tr>\n",
       "    <tr>\n",
       "      <th>DisbursementGross_Gr_Ratio</th>\n",
       "      <td>0.047301</td>\n",
       "      <td>0.032333</td>\n",
       "    </tr>\n",
       "    <tr>\n",
       "      <th>FY_Diff</th>\n",
       "      <td>0.034412</td>\n",
       "      <td>0.042713</td>\n",
       "    </tr>\n",
       "    <tr>\n",
       "      <th>ApprovalDate</th>\n",
       "      <td>0.045032</td>\n",
       "      <td>0.029489</td>\n",
       "    </tr>\n",
       "    <tr>\n",
       "      <th>DisbursementDate_CountEncode</th>\n",
       "      <td>0.050258</td>\n",
       "      <td>0.022180</td>\n",
       "    </tr>\n",
       "    <tr>\n",
       "      <th>State</th>\n",
       "      <td>0.024825</td>\n",
       "      <td>0.026830</td>\n",
       "    </tr>\n",
       "    <tr>\n",
       "      <th>FranchiseCode</th>\n",
       "      <td>-0.022215</td>\n",
       "      <td>0.038371</td>\n",
       "    </tr>\n",
       "    <tr>\n",
       "      <th>BankState</th>\n",
       "      <td>0.009405</td>\n",
       "      <td>0.005933</td>\n",
       "    </tr>\n",
       "    <tr>\n",
       "      <th>DisbursementGross_CountEncode</th>\n",
       "      <td>0.027963</td>\n",
       "      <td>-0.020343</td>\n",
       "    </tr>\n",
       "    <tr>\n",
       "      <th>SBA_Appv</th>\n",
       "      <td>0.038753</td>\n",
       "      <td>-0.033494</td>\n",
       "    </tr>\n",
       "    <tr>\n",
       "      <th>GrAppv</th>\n",
       "      <td>0.039035</td>\n",
       "      <td>-0.035067</td>\n",
       "    </tr>\n",
       "    <tr>\n",
       "      <th>DisbursementGross_int</th>\n",
       "      <td>0.000481</td>\n",
       "      <td>0.000447</td>\n",
       "    </tr>\n",
       "    <tr>\n",
       "      <th>DisbursementDate</th>\n",
       "      <td>0.020508</td>\n",
       "      <td>-0.022196</td>\n",
       "    </tr>\n",
       "    <tr>\n",
       "      <th>CreateJob</th>\n",
       "      <td>0.020751</td>\n",
       "      <td>-0.027884</td>\n",
       "    </tr>\n",
       "    <tr>\n",
       "      <th>GrAppv_int</th>\n",
       "      <td>-0.003946</td>\n",
       "      <td>-0.009447</td>\n",
       "    </tr>\n",
       "    <tr>\n",
       "      <th>ApprovalDate_CountEncode</th>\n",
       "      <td>0.012685</td>\n",
       "      <td>-0.029524</td>\n",
       "    </tr>\n",
       "    <tr>\n",
       "      <th>SBA_Appv_int</th>\n",
       "      <td>-0.006092</td>\n",
       "      <td>-0.013580</td>\n",
       "    </tr>\n",
       "    <tr>\n",
       "      <th>BankState_CountEncode</th>\n",
       "      <td>-0.014569</td>\n",
       "      <td>-0.005933</td>\n",
       "    </tr>\n",
       "    <tr>\n",
       "      <th>RetainedJob</th>\n",
       "      <td>0.024734</td>\n",
       "      <td>-0.058362</td>\n",
       "    </tr>\n",
       "    <tr>\n",
       "      <th>ApprovalFY</th>\n",
       "      <td>-0.020270</td>\n",
       "      <td>-0.016672</td>\n",
       "    </tr>\n",
       "    <tr>\n",
       "      <th>City_CountEncode</th>\n",
       "      <td>-0.002470</td>\n",
       "      <td>-0.042426</td>\n",
       "    </tr>\n",
       "    <tr>\n",
       "      <th>State_CountEncode</th>\n",
       "      <td>-0.021678</td>\n",
       "      <td>-0.026830</td>\n",
       "    </tr>\n",
       "    <tr>\n",
       "      <th>FranchiseCode_CountEncode</th>\n",
       "      <td>-0.025483</td>\n",
       "      <td>-0.038369</td>\n",
       "    </tr>\n",
       "    <tr>\n",
       "      <th>SBA_Gr_Ratio</th>\n",
       "      <td>-0.036853</td>\n",
       "      <td>-0.033693</td>\n",
       "    </tr>\n",
       "    <tr>\n",
       "      <th>State_is_BankState</th>\n",
       "      <td>-0.040811</td>\n",
       "      <td>-0.040811</td>\n",
       "    </tr>\n",
       "    <tr>\n",
       "      <th>ApprovalDateYear_is_ApprovalFY</th>\n",
       "      <td>-0.045013</td>\n",
       "      <td>-0.045013</td>\n",
       "    </tr>\n",
       "    <tr>\n",
       "      <th>DisbursementYear</th>\n",
       "      <td>-0.065922</td>\n",
       "      <td>-0.073590</td>\n",
       "    </tr>\n",
       "    <tr>\n",
       "      <th>Sector</th>\n",
       "      <td>-0.102789</td>\n",
       "      <td>-0.105012</td>\n",
       "    </tr>\n",
       "    <tr>\n",
       "      <th>NewExist</th>\n",
       "      <td>-0.105431</td>\n",
       "      <td>-0.105431</td>\n",
       "    </tr>\n",
       "    <tr>\n",
       "      <th>RevLineCr</th>\n",
       "      <td>-0.144714</td>\n",
       "      <td>-0.134530</td>\n",
       "    </tr>\n",
       "    <tr>\n",
       "      <th>LowDoc</th>\n",
       "      <td>-0.178118</td>\n",
       "      <td>-0.116404</td>\n",
       "    </tr>\n",
       "    <tr>\n",
       "      <th>UrbanRural</th>\n",
       "      <td>-0.177842</td>\n",
       "      <td>-0.188750</td>\n",
       "    </tr>\n",
       "  </tbody>\n",
       "</table>\n",
       "</div>"
      ],
      "text/plain": [
       "                                MIS_Status  MIS_Status\n",
       "RevLineCr_CountEncode             0.142624    0.134530\n",
       "NoEmp                             0.092940    0.171855\n",
       "Term                              0.122125    0.119292\n",
       "LowDoc_CountEncode                0.112232    0.116404\n",
       "Sector_CountEncode                0.104510    0.105012\n",
       "City                              0.073867    0.042356\n",
       "DisbursementGross                 0.072582    0.020391\n",
       "GrAppv_CountEncode                0.056272    0.035001\n",
       "DisbursementGross_SBA_Ratio       0.051381    0.034710\n",
       "SBA_Appv_CountEncode              0.052683    0.033403\n",
       "DisbursementGross_Gr_Ratio        0.047301    0.032333\n",
       "FY_Diff                           0.034412    0.042713\n",
       "ApprovalDate                      0.045032    0.029489\n",
       "DisbursementDate_CountEncode      0.050258    0.022180\n",
       "State                             0.024825    0.026830\n",
       "FranchiseCode                    -0.022215    0.038371\n",
       "BankState                         0.009405    0.005933\n",
       "DisbursementGross_CountEncode     0.027963   -0.020343\n",
       "SBA_Appv                          0.038753   -0.033494\n",
       "GrAppv                            0.039035   -0.035067\n",
       "DisbursementGross_int             0.000481    0.000447\n",
       "DisbursementDate                  0.020508   -0.022196\n",
       "CreateJob                         0.020751   -0.027884\n",
       "GrAppv_int                       -0.003946   -0.009447\n",
       "ApprovalDate_CountEncode          0.012685   -0.029524\n",
       "SBA_Appv_int                     -0.006092   -0.013580\n",
       "BankState_CountEncode            -0.014569   -0.005933\n",
       "RetainedJob                       0.024734   -0.058362\n",
       "ApprovalFY                       -0.020270   -0.016672\n",
       "City_CountEncode                 -0.002470   -0.042426\n",
       "State_CountEncode                -0.021678   -0.026830\n",
       "FranchiseCode_CountEncode        -0.025483   -0.038369\n",
       "SBA_Gr_Ratio                     -0.036853   -0.033693\n",
       "State_is_BankState               -0.040811   -0.040811\n",
       "ApprovalDateYear_is_ApprovalFY   -0.045013   -0.045013\n",
       "DisbursementYear                 -0.065922   -0.073590\n",
       "Sector                           -0.102789   -0.105012\n",
       "NewExist                         -0.105431   -0.105431\n",
       "RevLineCr                        -0.144714   -0.134530\n",
       "LowDoc                           -0.178118   -0.116404\n",
       "UrbanRural                       -0.177842   -0.188750"
      ]
     },
     "execution_count": 6,
     "metadata": {},
     "output_type": "execute_result"
    }
   ],
   "source": [
    "s_per = df_train.corr(\"pearson\")[target].sort_values()\n",
    "s_spr = df_train.corr(\"spearman\")[target].sort_values()\n",
    "df_corr = pd.concat([s_per, s_spr], axis=1)\n",
    "df_corr = df_corr.loc[df_corr.mean(axis=1).sort_values(ascending=False).keys(), :].drop(\"MIS_Status\")\n",
    "df_corr"
   ]
  },
  {
   "cell_type": "code",
   "execution_count": 7,
   "id": "65ed9c80",
   "metadata": {
    "execution": {
     "iopub.execute_input": "2024-02-10T05:44:26.371318Z",
     "iopub.status.busy": "2024-02-10T05:44:26.370909Z",
     "iopub.status.idle": "2024-02-10T05:44:26.394799Z",
     "shell.execute_reply": "2024-02-10T05:44:26.393494Z"
    },
    "papermill": {
     "duration": 0.03672,
     "end_time": "2024-02-10T05:44:26.397617",
     "exception": false,
     "start_time": "2024-02-10T05:44:26.360897",
     "status": "completed"
    },
    "tags": []
   },
   "outputs": [],
   "source": [
    "train_y = df_train[target]\n",
    "train_x = df_train.drop(target, axis=1)"
   ]
  },
  {
   "cell_type": "markdown",
   "id": "251e40d5",
   "metadata": {
    "papermill": {
     "duration": 0.007193,
     "end_time": "2024-02-10T05:44:26.412546",
     "exception": false,
     "start_time": "2024-02-10T05:44:26.405353",
     "status": "completed"
    },
    "tags": []
   },
   "source": [
    "## 学習"
   ]
  },
  {
   "cell_type": "code",
   "execution_count": 8,
   "id": "d4c2a59b",
   "metadata": {
    "execution": {
     "iopub.execute_input": "2024-02-10T05:44:26.430033Z",
     "iopub.status.busy": "2024-02-10T05:44:26.428889Z",
     "iopub.status.idle": "2024-02-10T05:44:26.435966Z",
     "shell.execute_reply": "2024-02-10T05:44:26.435098Z"
    },
    "papermill": {
     "duration": 0.018152,
     "end_time": "2024-02-10T05:44:26.438183",
     "exception": false,
     "start_time": "2024-02-10T05:44:26.420031",
     "status": "completed"
    },
    "tags": []
   },
   "outputs": [],
   "source": [
    "from sklearn import metrics\n",
    "def decide_cutoff(val_y, preds_y_proba):\n",
    "    mean_f1_list = []\n",
    "    fpr, tpr, thresholds = metrics.roc_curve(val_y, preds_y_proba)\n",
    "    for threshold in thresholds:\n",
    "        preds_y = [1 if prob > threshold else 0 for prob in preds_y_proba]\n",
    "        mean_f1_list.append(f1_score(val_y, preds_y, average='macro'))\n",
    "    plt.plot(thresholds, mean_f1_list)\n",
    "    plt.show()\n",
    "    return np.max(mean_f1_list), thresholds[np.argmax(mean_f1_list)]"
   ]
  },
  {
   "cell_type": "code",
   "execution_count": 9,
   "id": "055659ab",
   "metadata": {
    "execution": {
     "iopub.execute_input": "2024-02-10T05:44:26.455245Z",
     "iopub.status.busy": "2024-02-10T05:44:26.454764Z",
     "iopub.status.idle": "2024-02-10T06:00:29.909681Z",
     "shell.execute_reply": "2024-02-10T06:00:29.908494Z"
    },
    "papermill": {
     "duration": 963.466547,
     "end_time": "2024-02-10T06:00:29.912134",
     "exception": false,
     "start_time": "2024-02-10T05:44:26.445587",
     "status": "completed"
    },
    "tags": []
   },
   "outputs": [
    {
     "name": "stdout",
     "output_type": "stream",
     "text": [
      "0:\tlearn: 0.6835893\ttest: 0.6835186\tbest: 0.6835186 (0)\ttotal: 180ms\tremaining: 9m 1s\n",
      "1000:\tlearn: 0.2336082\ttest: 0.2678367\tbest: 0.2678193 (963)\ttotal: 2m 35s\tremaining: 5m 11s\n",
      "Stopped by overfitting detector  (100 iterations wait)\n",
      "\n",
      "bestTest = 0.2676523814\n",
      "bestIteration = 1349\n",
      "\n",
      "Shrink model to first 1350 iterations.\n"
     ]
    },
    {
     "data": {
      "image/png": "[encoded data removed]",
      "text/plain": [
       "<Figure size 640x480 with 1 Axes>"
      ]
     },
     "metadata": {},
     "output_type": "display_data"
    },
    {
     "name": "stdout",
     "output_type": "stream",
     "text": [
      "Fold: 1, Cat, AUC: 0.8016739096712189, F1: 0.699732216017454, Threshold: 0.7797809636808647\n",
      "0:\tlearn: 0.6835794\ttest: 0.6835215\tbest: 0.6835215 (0)\ttotal: 109ms\tremaining: 5m 27s\n",
      "1000:\tlearn: 0.2345236\ttest: 0.2686749\tbest: 0.2686445 (984)\ttotal: 2m 38s\tremaining: 5m 16s\n",
      "Stopped by overfitting detector  (100 iterations wait)\n",
      "\n",
      "bestTest = 0.2684946872\n",
      "bestIteration = 1153\n",
      "\n",
      "Shrink model to first 1154 iterations.\n"
     ]
    },
    {
     "data": {
      "image/png": "[encoded data removed]",
      "text/plain": [
       "<Figure size 640x480 with 1 Axes>"
      ]
     },
     "metadata": {},
     "output_type": "display_data"
    },
    {
     "name": "stdout",
     "output_type": "stream",
     "text": [
      "Fold: 2, Cat, AUC: 0.8024499667008406, F1: 0.6955913291871813, Threshold: 0.7970367818829533\n",
      "0:\tlearn: 0.6833617\ttest: 0.6834620\tbest: 0.6834620 (0)\ttotal: 134ms\tremaining: 6m 40s\n",
      "Stopped by overfitting detector  (100 iterations wait)\n",
      "\n",
      "bestTest = 0.2821565427\n",
      "bestIteration = 577\n",
      "\n",
      "Shrink model to first 578 iterations.\n"
     ]
    },
    {
     "data": {
      "image/png": "[encoded data removed]",
      "text/plain": [
       "<Figure size 640x480 with 1 Axes>"
      ]
     },
     "metadata": {},
     "output_type": "display_data"
    },
    {
     "name": "stdout",
     "output_type": "stream",
     "text": [
      "Fold: 3, Cat, AUC: 0.7775785331382169, F1: 0.6701996564222644, Threshold: 0.7904972452713327\n",
      "0:\tlearn: 0.6829239\ttest: 0.6830409\tbest: 0.6830409 (0)\ttotal: 132ms\tremaining: 6m 36s\n",
      "1000:\tlearn: 0.2332543\ttest: 0.2744340\tbest: 0.2744273 (997)\ttotal: 2m 37s\tremaining: 5m 14s\n",
      "Stopped by overfitting detector  (100 iterations wait)\n",
      "\n",
      "bestTest = 0.2741115009\n",
      "bestIteration = 1304\n",
      "\n",
      "Shrink model to first 1305 iterations.\n"
     ]
    },
    {
     "data": {
      "image/png": "[encoded data removed]",
      "text/plain": [
       "<Figure size 640x480 with 1 Axes>"
      ]
     },
     "metadata": {},
     "output_type": "display_data"
    },
    {
     "name": "stdout",
     "output_type": "stream",
     "text": [
      "Fold: 4, Cat, AUC: 0.7951576845213064, F1: 0.6892230759777952, Threshold: 0.7696624522308825\n",
      "0:\tlearn: 0.6837681\ttest: 0.6837436\tbest: 0.6837436 (0)\ttotal: 60ms\tremaining: 2m 59s\n",
      "Stopped by overfitting detector  (100 iterations wait)\n",
      "\n",
      "bestTest = 0.2752861265\n",
      "bestIteration = 699\n",
      "\n",
      "Shrink model to first 700 iterations.\n"
     ]
    },
    {
     "data": {
      "image/png": "[encoded data removed]",
      "text/plain": [
       "<Figure size 640x480 with 1 Axes>"
      ]
     },
     "metadata": {},
     "output_type": "display_data"
    },
    {
     "name": "stdout",
     "output_type": "stream",
     "text": [
      "Fold: 5, Cat, AUC: 0.7879357386947218, F1: 0.6877587299574305, Threshold: 0.717674181353751\n"
     ]
    }
   ],
   "source": [
    "list_f1s = []\n",
    "list_metrics = []\n",
    "list_thresholds = []\n",
    "list_models = []\n",
    "\n",
    "cat_features_loc = [train_x.columns.get_loc(col) for col in cols_category]\n",
    "cv = StratifiedKFold(n_splits=5, shuffle=True, random_state=42)\n",
    "df_oof = df_train[[\"MIS_Status\"]].copy()\n",
    "df_oof[\"fold\"] = np.nan\n",
    "df_oof[\"pred\"] = np.nan\n",
    "for fold, (trn_idx, val_idx) in enumerate(cv.split(train_x, train_y), start=1):\n",
    "    trn_x = train_x.iloc[trn_idx, :]\n",
    "    trn_y = train_y[trn_idx]\n",
    "    val_x = train_x.iloc[val_idx, :]\n",
    "    val_y = train_y[val_idx]\n",
    "    \n",
    "    model_cat = CatBoostClassifier(**params_cat)\n",
    "    model_cat.fit(\n",
    "        trn_x, trn_y,\n",
    "        eval_set=(val_x, val_y),\n",
    "        early_stopping_rounds=100,\n",
    "        use_best_model=True,\n",
    "        cat_features=cat_features_loc,\n",
    "        verbose=1000,\n",
    "    )\n",
    "    list_models.append(model_cat)\n",
    "    preds_y_proba = model_cat.predict_proba(val_x)[:, 1]\n",
    "    auc = roc_auc_score(val_y, preds_y_proba)\n",
    "    f1, threshold = decide_cutoff(val_y, preds_y_proba)\n",
    "    print(f\"Fold: {fold}, Cat, AUC: {auc}, F1: {f1}, Threshold: {threshold}\")\n",
    "    list_f1s.append(f1)\n",
    "    list_thresholds.append(threshold)\n",
    "    list_metrics.append(auc)\n",
    "    df_oof.iloc[val_idx, 1] = fold\n",
    "    df_oof.iloc[val_idx, 2] = preds_y_proba"
   ]
  },
  {
   "cell_type": "markdown",
   "id": "7712e05a",
   "metadata": {
    "papermill": {
     "duration": 0.011256,
     "end_time": "2024-02-10T06:00:30.308644",
     "exception": false,
     "start_time": "2024-02-10T06:00:30.297388",
     "status": "completed"
    },
    "tags": []
   },
   "source": [
    "## 精度評価"
   ]
  },
  {
   "cell_type": "code",
   "execution_count": 12,
   "id": "976368c3",
   "metadata": {
    "execution": {
     "iopub.execute_input": "2024-02-10T06:00:30.333544Z",
     "iopub.status.busy": "2024-02-10T06:00:30.332860Z",
     "iopub.status.idle": "2024-02-10T06:00:30.339566Z",
     "shell.execute_reply": "2024-02-10T06:00:30.338383Z"
    },
    "papermill": {
     "duration": 0.021874,
     "end_time": "2024-02-10T06:00:30.341914",
     "exception": false,
     "start_time": "2024-02-10T06:00:30.320040",
     "status": "completed"
    },
    "tags": []
   },
   "outputs": [
    {
     "name": "stdout",
     "output_type": "stream",
     "text": [
      "0.7929591665452609 0.6885010015124251 0.7709303248839567\n"
     ]
    }
   ],
   "source": [
    "print(np.mean(list_metrics), np.mean(list_f1s), np.mean(list_thresholds))"
   ]
  },
  {
   "cell_type": "markdown",
   "id": "f0563493",
   "metadata": {
    "papermill": {
     "duration": 0.011099,
     "end_time": "2024-02-10T06:00:30.364534",
     "exception": false,
     "start_time": "2024-02-10T06:00:30.353435",
     "status": "completed"
    },
    "tags": []
   },
   "source": [
    "## 予測"
   ]
  },
  {
   "cell_type": "code",
   "execution_count": 13,
   "id": "0c567370",
   "metadata": {
    "execution": {
     "iopub.execute_input": "2024-02-10T06:00:30.389343Z",
     "iopub.status.busy": "2024-02-10T06:00:30.388943Z",
     "iopub.status.idle": "2024-02-10T06:00:46.130233Z",
     "shell.execute_reply": "2024-02-10T06:00:46.129043Z"
    },
    "papermill": {
     "duration": 15.757863,
     "end_time": "2024-02-10T06:00:46.133812",
     "exception": false,
     "start_time": "2024-02-10T06:00:30.375949",
     "status": "completed"
    },
    "tags": []
   },
   "outputs": [],
   "source": [
    "ss_probs = ss.copy()\n",
    "ss_probs.columns = [\"ID\", \"score\"]\n",
    "\n",
    "cols_score = []\n",
    "for fold, model in enumerate(list_models, start=1):\n",
    "    ss_probs[f\"score_fold{fold}\"] = model.predict_proba(df_test[model.feature_names_])[:, 1]\n",
    "    cols_score.append(f\"score_fold{fold}\")\n",
    "ss_probs[\"score\"] = ss_probs[cols_score].mean(axis=1)\n",
    "ss_probs.to_csv(f\"sample.nishimoto.{exp}.csv\", index=False)\n",
    "\n",
    "# 平均値\n",
    "preds_y = [1 if prob > np.mean(list_thresholds) else 0 for prob in ss_probs[\"score\"]]\n",
    "ss[1] = preds_y\n",
    "ss[1] = ss[1].astype(int)\n",
    "ss.to_csv(f\"submission.nishimoto.{exp}.csv\", header=False, index=False)"
   ]
  },
  {
   "cell_type": "code",
   "execution_count": null,
   "id": "b99422a5",
   "metadata": {
    "papermill": {
     "duration": 0.023513,
     "end_time": "2024-02-10T06:00:46.317497",
     "exception": false,
     "start_time": "2024-02-10T06:00:46.293984",
     "status": "completed"
    },
    "tags": []
   },
   "outputs": [],
   "source": []
  }
 ],
 "metadata": {
  "kaggle": {
   "accelerator": "none",
   "dataSources": [
    {
     "datasetId": 772,
     "sourceId": 1440,
     "sourceType": "datasetVersion"
    },
    {
     "datasetId": 4346897,
     "sourceId": 7542681,
     "sourceType": "datasetVersion"
    },
    {
     "datasetId": 4403697,
     "sourceId": 7562917,
     "sourceType": "datasetVersion"
    }
   ],
   "dockerImageVersionId": 30635,
   "isGpuEnabled": false,
   "isInternetEnabled": true,
   "language": "python",
   "sourceType": "notebook"
  },
  "kernelspec": {
   "display_name": "Python 3",
   "language": "python",
   "name": "python3"
  },
  "language_info": {
   "codemirror_mode": {
    "name": "ipython",
    "version": 3
   },
   "file_extension": ".py",
   "mimetype": "text/x-python",
   "name": "python",
   "nbconvert_exporter": "python",
   "pygments_lexer": "ipython3",
   "version": "3.10.12"
  },
  "papermill": {
   "default_parameters": {},
   "duration": 1602.195785,
   "end_time": "2024-02-10T06:00:47.177288",
   "environment_variables": {},
   "exception": null,
   "input_path": "__notebook__.ipynb",
   "output_path": "__notebook__.ipynb",
   "parameters": {},
   "start_time": "2024-02-10T05:34:04.981503",
   "version": "2.4.0"
  }
 },
 "nbformat": 4,
 "nbformat_minor": 5
}
